{
 "cells": [
  {
   "cell_type": "markdown",
   "metadata": {
    "collapsed": true
   },
   "source": [
    "<img src=\"http://oci02.img.iteso.mx/identidad_de_instancia_2018/ITESO/Logos%20ITESO/Logo-ITESO-Principal.jpg\">"
   ]
  },
  {
   "cell_type": "markdown",
   "metadata": {},
   "source": [
    "<center><font color=#555555><font size=6> Ingeniería Financiera </font> <br> <br>\n",
    "\n",
    "<center><font color=#555555><font size=5> ITE1731 - Microestructura y Sistemas de Trading </font> <br> <br> <br>\n",
    "\n",
    "<center><font color=#555555><font size=5> I.F. Ana Paola Villegas Rivas </font> <br> <br>\n",
    "   \n",
    "<center> <font color= #555555> <font size = 4> Septiembre 2020 </a> | <font color= #555555> <font size = 4> Repositorio: <a href='https://github.com/'>https://github.com/apaolavr/myst_Lab1_APVR</a></font>"
   ]
  },
  {
   "cell_type": "markdown",
   "metadata": {},
   "source": [
    "<br>"
   ]
  },
  {
   "cell_type": "markdown",
   "metadata": {},
   "source": [
    "---"
   ]
  },
  {
   "cell_type": "markdown",
   "metadata": {},
   "source": [
    "<br>"
   ]
  },
  {
   "cell_type": "markdown",
   "metadata": {},
   "source": [
    "<br>"
   ]
  },
  {
   "cell_type": "markdown",
   "metadata": {},
   "source": [
    "<center> <font color= #555555> <font size = 7> Laboratorio 1 </font> <br> <br> <font color= #555555> <font size = 5> Inversión del Capital </font>"
   ]
  },
  {
   "cell_type": "markdown",
   "metadata": {},
   "source": [
    "# <font color= #555555> <font size = 5> Abstract </font>"
   ]
  },
  {
   "cell_type": "markdown",
   "metadata": {},
   "source": [
    "<font color= #6B6B6B> <font size = 2> Este documento fue elaborado por tu **Ana Paola Villegas Rivas**, como un trabajo parcial para la materia de **Microestructura y Sistemas de Trading - ITE1731**, la cual es parte del curriculum de la licenciatura en Ingeniería Financiera, ofertada por la universidad **ITESO**. En el presente trabajo se plantea la respuesta a la siguiente pregutna: *¿Qué estrategia de inversión propondrías si tu trabajo fuera administrar 1 Millón de pesos?*</font>"
   ]
  },
  {
   "cell_type": "markdown",
   "metadata": {},
   "source": [
    "<br>"
   ]
  },
  {
   "cell_type": "markdown",
   "metadata": {},
   "source": [
    "# <font color= #6B6B6B> <font size = 6> 0. Librerías y Dependencias </font>"
   ]
  },
  {
   "cell_type": "markdown",
   "metadata": {},
   "source": [
    "<hr style=\"border:0.02in solid gray\"> </hr>"
   ]
  },
  {
   "cell_type": "markdown",
   "metadata": {},
   "source": [
    "# <font color= #6B6B6B> <font size = 5> 0.1 Librerías </font> <font color= #555555>"
   ]
  },
  {
   "cell_type": "markdown",
   "metadata": {},
   "source": [
    "Para correr este notebook es necesario tener instaladas y/o en el archivo _requirements.txt_ las siguientes librerías :"
   ]
  },
  {
   "cell_type": "markdown",
   "metadata": {},
   "source": [
    "- pandas>=1.1.1 \n",
    "- numpy>=1.19.1\n",
    "- jupyter>=1.0.0\n",
    "- yfinance>=0.1.54"
   ]
  },
  {
   "cell_type": "markdown",
   "metadata": {},
   "source": [
    "# <font color= #6B6B6B> <font size = 5> 0.2 Dependencias </font> <font color= #555555>"
   ]
  },
  {
   "cell_type": "markdown",
   "metadata": {},
   "source": [
    "Para correr este notebook es necesario contar con los siguientes archivos y dependencias externas:"
   ]
  },
  {
   "cell_type": "markdown",
   "metadata": {},
   "source": [
    "- files/precios.csv : Precios históricos\n",
    "- files/datos.txt : Otros datos históricos"
   ]
  },
  {
   "cell_type": "markdown",
   "metadata": {},
   "source": [
    "<br>"
   ]
  },
  {
   "cell_type": "markdown",
   "metadata": {},
   "source": [
    "# <font color= #6B6B6B> <font size = 6> 1. Introducción </font>"
   ]
  },
  {
   "cell_type": "markdown",
   "metadata": {},
   "source": [
    "<hr style=\"border:0.02in solid gray\"> </hr>"
   ]
  },
  {
   "cell_type": "markdown",
   "metadata": {},
   "source": [
    "Como parte del primer laboratorio de la clase de Microestructura y sistemas de trading \n",
    "\n",
    "Para este primer laboratorio se planteó el siguente caso:\n",
    "\n",
    "Se tiene 1 Millón de pesos, con dos opciones para invertirlos. Por un lado, hacer una Inversión Pasiva del capital, comprando el 100% del capital de títulos de un ETF y por el otro iniciar con una inversión activa al crear un portafolio que tenga los mismos activos que el ETF y haciendo el rebalanceo.\n",
    "\n",
    "Como parte de los resultados esperados es tener dos series de tiempo, cada una para su respectiva inversión, un data que nos muestre como evolucionan los datos dentro de la activa y al final una tabla comparativa con Métricas de Atribución al Desempeño,  para tener una comparación financiera entre ambas opciones de estrategias de inversión. "
   ]
  },
  {
   "cell_type": "markdown",
   "metadata": {},
   "source": [
    "<br>"
   ]
  },
  {
   "cell_type": "markdown",
   "metadata": {},
   "source": [
    "# <font color= #6B6B6B> <font size = 6> 2. Objetivos </font>"
   ]
  },
  {
   "cell_type": "markdown",
   "metadata": {},
   "source": [
    "<hr style=\"border:0.02in solid gray\"> </hr>"
   ]
  },
  {
   "cell_type": "markdown",
   "metadata": {},
   "source": [
    "Como objetivo de este primer laboratorio seria entender las diferencias entre la inversión pasiva y la inversión activa, es por eso que se realizó el siguiente codigo, para nosotros mismos ver los cambios existentes entre dejar fluctuar o estar involucrados de manera mas activa. \n",
    "\n",
    "Dentro de mi inversión activa tendria que estar al pendiente de los picos, altos y bajos para saber que esta pasando con el capital invertido, en cambio en la activa la ponderacion invertida de 10% depende de mis valores diarios.Este laboratorio nos tiene que llevar a diferenciar ambos métodos, asi como ver las debilidades y fortalezas de cada uno para poder tomar una decisión razonable cuando sea necesario.  \n",
    "\n"
   ]
  },
  {
   "cell_type": "markdown",
   "metadata": {},
   "source": [
    "<br>"
   ]
  },
  {
   "cell_type": "markdown",
   "metadata": {},
   "source": [
    "# <font color= #6B6B6B> <font size = 6> 3. Datos </font>"
   ]
  },
  {
   "cell_type": "markdown",
   "metadata": {},
   "source": [
    "<hr style=\"border:0.02in solid gray\"> </hr>"
   ]
  },
  {
   "cell_type": "markdown",
   "metadata": {},
   "source": [
    "Para tanto la inversión activa como pasiva se utilizaron los mismos datos base, un ETF, el NAFTRAC, que representa al S&P/BMV IPC. Aunque se tienen diferentes consideraciones, los datos a trabajar son los siguientes: "
   ]
  },
  {
   "cell_type": "code",
   "execution_count": 37,
   "metadata": {},
   "outputs": [],
   "source": [
    "import numpy as np\n",
    "import data as dt\n",
    "import functions as fn\n",
    "import visualizations as vs\n",
    "import pandas as pd\n",
    "from os import listdir, path\n",
    "from os.path import isfile, join\n",
    "\n",
    "pd.set_option('display.max_rows', None)\n",
    "pd.set_option('display.max_columns', None)\n",
    "pd.set_option('display.width', None)\n",
    "pd.set_option('display.expand_frame_repr', False)"
   ]
  },
  {
   "cell_type": "markdown",
   "metadata": {},
   "source": [
    "se importan todas las librerias necesarias para el code "
   ]
  },
  {
   "cell_type": "code",
   "execution_count": 38,
   "metadata": {},
   "outputs": [],
   "source": [
    "abspath = path.abspath('files/NAFTRAC_holdings')\n",
    "\n",
    "archivos = dt.f_archivo(abspath)\n",
    "\n"
   ]
  },
  {
   "cell_type": "markdown",
   "metadata": {},
   "source": [
    "la direccion para bajar los archivos de csv se tienen en la carpeta files, la bajamos y desde main.py traemos la funcion de archivos"
   ]
  },
  {
   "cell_type": "markdown",
   "metadata": {},
   "source": [
    "<br>"
   ]
  },
  {
   "cell_type": "markdown",
   "metadata": {},
   "source": [
    "# <font color= #6B6B6B> <font size = 6> 4. Procesos </font>"
   ]
  },
  {
   "cell_type": "markdown",
   "metadata": {},
   "source": [
    "<hr style=\"border:0.02in solid gray\"> </hr>"
   ]
  },
  {
   "cell_type": "markdown",
   "metadata": {},
   "source": [
    "INVERSIÓN PASIVA"
   ]
  },
  {
   "cell_type": "markdown",
   "metadata": {},
   "source": [
    "La estrategia pasiva nos hablade un mercado es eficiente en su forma intermedia, donde los precios de los activos reflejan toda la información disponible. No se elimina el riesgo de mercado, pero se evita la incertidumbre.\n"
   ]
  },
  {
   "cell_type": "code",
   "execution_count": 39,
   "metadata": {},
   "outputs": [],
   "source": [
    "data_archivos= dt.f_data_archivos_dicc(archivos)\n",
    "\n",
    "i_fechas= fn.f_fechas(archivos)"
   ]
  },
  {
   "cell_type": "code",
   "execution_count": 40,
   "metadata": {},
   "outputs": [],
   "source": [
    "global_tickers = fn.f_tickers(archivos,data_archivos)\n",
    "\n",
    "global_tickers = fn.f_new_tickers(global_tickers)\n"
   ]
  },
  {
   "cell_type": "code",
   "execution_count": 41,
   "metadata": {},
   "outputs": [
    {
     "name": "stdout",
     "output_type": "stream",
     "text": [
      "[*********************100%***********************]  39 of 39 completed\n",
      "se tardo 4.49 segundos\n"
     ]
    }
   ],
   "source": [
    "data = fn.f_data(global_tickers)\n",
    "\n",
    "data_close = fn.f_data_close(data,global_tickers)\n",
    "\n",
    "ic_fechas = fn.f_icfechas(data_close,i_fechas)\n",
    "\n",
    "precios = fn.f_precios(data_close,ic_fechas)"
   ]
  },
  {
   "cell_type": "markdown",
   "metadata": {},
   "source": [
    "Tenemos postura inicial del millón mas aparte la comision para la P.I y se eliminan  porcentajes de remv_activos, Basicamente se tiene el numero de titulos que podemos comprar con el  porcentaje asignado, tenemos la cantida de dinero invertida en\n",
    "cada activo ( postura) y comisiones."
   ]
  },
  {
   "cell_type": "code",
   "execution_count": 42,
   "metadata": {},
   "outputs": [],
   "source": [
    "\n",
    "\n",
    "\n",
    "# capital inicial\n",
    "k = 1000000\n",
    "# comisiones por transaccion\n",
    "c = 0.00125\n",
    "\n",
    "remv_activos = ['KOFL','KOFUBL', 'BSMXB', 'MXN', 'USD']\n",
    "\n",
    "inv_pasiva = {'timestamp': ['2018-01-30'], 'Capital': [k]}\n",
    "\n",
    "# ----------------------------\n",
    "\n",
    "pos_datos = fn.f_p_i(remv_activos,data_archivos,archivos,precios,k,c)\n",
    "\n",
    "# ----------------------------\n",
    "\n",
    "#Inversion total o cash\n",
    "cash=k-pos_datos['Postura'].sum()-pos_datos['Comision'].sum()\n",
    "cash=np.round(cash)\n",
    "\n",
    "# ----------------------------\n",
    "\n",
    "inv_pasiva = {'timestamp': ['2018-01-30'], 'Capital': [k]}\n",
    "\n",
    "inv_pasiva =fn.f_pasiva(ic_fechas,pos_datos,precios,cash,inv_pasiva)\n",
    "# ----------------------------\n",
    "\n",
    "df_pasiva=vs.f_pasiva(inv_pasiva)\n",
    "# ----------------------------\n",
    "\n",
    "\n"
   ]
  },
  {
   "cell_type": "markdown",
   "metadata": {},
   "source": [
    "Despues de inicializar la posicion tenemos que llenar el data para el resto de las fechas, por lo que necesitamos un for para los rendimientos y los datos para las columnas de fechas y capital"
   ]
  },
  {
   "cell_type": "code",
   "execution_count": 45,
   "metadata": {},
   "outputs": [],
   "source": [
    "def data_pasiva(inv_pasiva):\n",
    "\n",
    "    df_pasiva = pd.DataFrame()\n",
    "    df_pasiva['Capital'] = inv_pasiva['Capital']\n",
    "    df_pasiva['timestamp'] = inv_pasiva['timestamp']\n",
    "    df_pasiva['rend'] = 0\n",
    "    df_pasiva['rend_acum'] = 0\n",
    "    \n",
    "    for i in range(1, len(df_pasiva)):\n",
    "        df_pasiva.loc[i, 'rend'] = (df_pasiva.loc[i, 'Capital'] - df_pasiva.loc[i - 1, 'Capital']) / df_pasiva.loc[\n",
    "            i - 1, 'Capital']\n",
    "        df_pasiva.loc[i, 'rend_acum'] = df_pasiva.loc[i, 'rend'] + df_pasiva.loc[i - 1, 'rend_acum']\n",
    "\n",
    "    return df_pasiva"
   ]
  },
  {
   "cell_type": "code",
   "execution_count": null,
   "metadata": {},
   "outputs": [],
   "source": []
  },
  {
   "cell_type": "markdown",
   "metadata": {},
   "source": [
    "<br>"
   ]
  },
  {
   "cell_type": "markdown",
   "metadata": {},
   "source": [
    "# <font color= #6B6B6B> <font size = 6> 5. Conclusiones </font>"
   ]
  },
  {
   "cell_type": "markdown",
   "metadata": {},
   "source": [
    "<hr style=\"border:0.02in solid gray\"> </hr>"
   ]
  },
  {
   "cell_type": "markdown",
   "metadata": {},
   "source": [
    "Como conlusion para esta parte del laboratorio solo se tiene el ejemplo numerico para inversión pasiva, que muchas veces se siente como un tipo de  gestión útil para inversores con poco conocimientos financieros o que no cuentan con el tiempo sufuciente para dedicar a su cartera de inversiones, ya que es como el invertir en índices y dejarlos flucuar. \n",
    "\n",
    "Creo que si se cuenta entonces con la capacidad y el tiempo necesario podrias llevar el manejo de tu portafolio de manera activa. Tambien creo que dentro de este portafolio podrias tener una parte pasiva, es decir tener ambos escenarios coexistiendo para lograr un desempeño optimo."
   ]
  },
  {
   "cell_type": "code",
   "execution_count": null,
   "metadata": {},
   "outputs": [],
   "source": []
  }
 ],
 "metadata": {
  "kernelspec": {
   "display_name": "Python 3",
   "language": "python",
   "name": "python3"
  },
  "language_info": {
   "codemirror_mode": {
    "name": "ipython",
    "version": 3
   },
   "file_extension": ".py",
   "mimetype": "text/x-python",
   "name": "python",
   "nbconvert_exporter": "python",
   "pygments_lexer": "ipython3",
   "version": "3.8.3"
  }
 },
 "nbformat": 4,
 "nbformat_minor": 1
}
